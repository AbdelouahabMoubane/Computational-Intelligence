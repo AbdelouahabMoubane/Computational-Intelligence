{
 "cells": [
  {
   "cell_type": "markdown",
   "metadata": {},
   "source": [
    "Copyright **(c)** 2023 Abdelouahab Moubane <abdelmub@gmail.com>\n",
    "https://github.com/AbdelouahabMoubane"
   ]
  },
  {
   "cell_type": "code",
   "execution_count": 1,
   "metadata": {},
   "outputs": [
    {
     "name": "stderr",
     "output_type": "stream",
     "text": [
      "c:\\Users\\abdel\\OneDrive\\Desktop\\Ingegneria matematica\\Computational Intelligence\\.venv\\Lib\\site-packages\\tqdm\\auto.py:21: TqdmWarning: IProgress not found. Please update jupyter and ipywidgets. See https://ipywidgets.readthedocs.io/en/stable/user_install.html\n",
      "  from .autonotebook import tqdm as notebook_tqdm\n"
     ]
    }
   ],
   "source": [
    "import Env_Agent as RL"
   ]
  },
  {
   "cell_type": "markdown",
   "metadata": {},
   "source": [
    "### Building of tree structure"
   ]
  },
  {
   "cell_type": "code",
   "execution_count": 2,
   "metadata": {},
   "outputs": [],
   "source": [
    "StartingPosition = RL.ttt_node(tuple(-1 for _ in range(9)), dict())\n",
    "RL.create_tree(StartingPosition)"
   ]
  },
  {
   "cell_type": "markdown",
   "metadata": {},
   "source": [
    "### Enviorement and Agent"
   ]
  },
  {
   "cell_type": "code",
   "execution_count": 3,
   "metadata": {},
   "outputs": [],
   "source": [
    "env = RL.TicTacToe_Env(StartingPosition)\n",
    "agente = RL.Agent(env)"
   ]
  },
  {
   "cell_type": "markdown",
   "metadata": {},
   "source": [
    "### Q-learning"
   ]
  },
  {
   "cell_type": "code",
   "execution_count": 10,
   "metadata": {},
   "outputs": [
    {
     "name": "stderr",
     "output_type": "stream",
     "text": [
      "100%|██████████| 100000/100000 [00:03<00:00, 32098.60it/s]\n",
      "100%|██████████| 1000000/1000000 [00:38<00:00, 25918.79it/s]\n"
     ]
    }
   ],
   "source": [
    "env.game_reset()\n",
    "agente.QLearning(discount=.95, alpha=0.9, epsilon=.1, n_step=100_000)\n",
    "agente.QLearning(discount=.95, alpha=0.9, epsilon=.1, n_step=1000_000, agent= agente)"
   ]
  },
  {
   "cell_type": "markdown",
   "metadata": {},
   "source": [
    "### Performance"
   ]
  },
  {
   "cell_type": "code",
   "execution_count": 12,
   "metadata": {},
   "outputs": [
    {
     "name": "stdout",
     "output_type": "stream",
     "text": [
      "WinRate: 91.2% DrawRate: 8.802% LossRate: 0.0% \n",
      "WinRate: 0.0% DrawRate: 100.0% LossRate: 0.0% \n"
     ]
    }
   ],
   "source": [
    "WR, DR, LR = agente.play_games(100_000, flag_agent = False)\n",
    "print(f'WinRate: {WR*100:.4}% DrawRate: {DR*100:.4}% LossRate: {LR*100:.4}% ')\n",
    "WR, DR, LR = agente.play_games(2, flag_agent = True)\n",
    "print(f'WinRate: {WR*100:.4}% DrawRate: {DR*100:.4}% LossRate: {LR*100:.4}% ')"
   ]
  },
  {
   "cell_type": "code",
   "execution_count": 6,
   "metadata": {},
   "outputs": [
    {
     "name": "stdout",
     "output_type": "stream",
     "text": [
      "X • • \t\tX X • \n",
      "• O • \t\t• O • \n",
      "• • • \t\t• • • \n",
      "\n",
      "X X O \t\tX X O \n",
      "• O • \t\t• O • \n",
      "• • • \t\tX • • \n",
      "\n",
      "X X O \t\tX X O \n",
      "O O • \t\tO O X \n",
      "X • • \t\tX • • \n",
      "\n",
      "X X O \t\tX X O \n",
      "O O X \t\tO O X \n",
      "X O • \t\tX O X \n",
      "\n",
      "StateType.DRAW\n"
     ]
    }
   ],
   "source": [
    "agente.play_game(flag_agent=True)"
   ]
  },
  {
   "cell_type": "markdown",
   "metadata": {},
   "source": [
    "### Graphical interface, try playing"
   ]
  },
  {
   "cell_type": "code",
   "execution_count": 7,
   "metadata": {},
   "outputs": [],
   "source": [
    "#agente.play_game_Human()"
   ]
  }
 ],
 "metadata": {
  "kernelspec": {
   "display_name": ".venv",
   "language": "python",
   "name": "python3"
  },
  "language_info": {
   "codemirror_mode": {
    "name": "ipython",
    "version": 3
   },
   "file_extension": ".py",
   "mimetype": "text/x-python",
   "name": "python",
   "nbconvert_exporter": "python",
   "pygments_lexer": "ipython3",
   "version": "3.12.0"
  }
 },
 "nbformat": 4,
 "nbformat_minor": 2
}
