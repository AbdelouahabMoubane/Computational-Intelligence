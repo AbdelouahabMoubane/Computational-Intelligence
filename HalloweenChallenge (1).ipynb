{
  "cells": [
    {
      "cell_type": "code",
      "execution_count": null,
      "metadata": {
        "id": "PHuVgtUxWzfy"
      },
      "outputs": [],
      "source": [
        "from itertools import product\n",
        "from random import random, randint, shuffle, seed, choice\n",
        "import numpy as np\n",
        "from scipy import sparse\n",
        "from functools import reduce\n",
        "from copy import copy\n",
        "from collections import namedtuple, deque\n",
        "#import matplotlib.pyplot as plt"
      ]
    },
    {
      "cell_type": "code",
      "execution_count": null,
      "metadata": {
        "id": "utcD3pKeWzf0"
      },
      "outputs": [],
      "source": [
        "def make_set_covering_problem(num_points, num_sets, density):\n",
        "    \"\"\"Returns a sparse array where rows are sets and columns are the covered items\"\"\"\n",
        "    seed(num_points*2654435761+num_sets+density)\n",
        "    sets = sparse.lil_array((num_sets, num_points), dtype=bool)\n",
        "    for s, p in product(range(num_sets), range(num_points)):\n",
        "        if random() < density:\n",
        "            sets[s, p] = True\n",
        "    for p in range(num_points):\n",
        "        sets[randint(0, num_sets-1), p] = True\n",
        "    return sets\n"
      ]
    },
    {
      "cell_type": "code",
      "execution_count": null,
      "metadata": {
        "id": "klPiG7QmcBQV"
      },
      "outputs": [],
      "source": [
        "def rank0(A):\n",
        "  return np.sum(A, axis=1)\n"
      ]
    },
    {
      "cell_type": "markdown",
      "metadata": {
        "id": "8lf8iE40Wzf1"
      },
      "source": [
        "# Halloween Challenge\n",
        "### Find the best solution with the fewest calls to the fitness functions for:"
      ]
    },
    {
      "cell_type": "markdown",
      "metadata": {
        "id": "KKyZK_Cy0NjX"
      },
      "source": []
    },
    {
      "cell_type": "code",
      "execution_count": null,
      "metadata": {},
      "outputs": [],
      "source": [
        "range_num_points = [100, 1_000, 5_000]\n",
        "range_num_sets = range_num_points\n",
        "density = [.3, .7]\n",
        "num_points = range_num_points[1]\n",
        "num_sets = range_num_sets[1]"
      ]
    },
    {
      "cell_type": "code",
      "execution_count": null,
      "metadata": {},
      "outputs": [],
      "source": [
        "x = make_set_covering_problem(num_sets, num_points, .3)\n",
        "\n",
        "print(\"Element at row=42 and column=42:\", x[2, 2])"
      ]
    },
    {
      "cell_type": "code",
      "execution_count": null,
      "metadata": {},
      "outputs": [],
      "source": [
        "sets = x.toarray()"
      ]
    },
    {
      "cell_type": "code",
      "execution_count": null,
      "metadata": {
        "id": "YDolU3G9Wzf3"
      },
      "outputs": [],
      "source": [
        "def fitness1(state):\n",
        "    cost = sum(state) #how many tiles i get\n",
        "    valid = [False for _ in range(num_points)]\n",
        "    for i, t in enumerate(state):\n",
        "        if t:\n",
        "            valid = np.logical_or(valid, sets[i].reshape((num_points)))\n",
        "    return sum(valid), -cost\n",
        "\n",
        "def fitness2(state):\n",
        "    cost = sum(state)\n",
        "    valid = [False for _ in range(num_points)]\n",
        "    for i, t in enumerate(state):\n",
        "        if t:\n",
        "            valid = np.logical_or(valid, sets[i].reshape((num_points)))      \n",
        "            # print(sum(valid))\n",
        "            \n",
        "    check = 0\n",
        "    if sum(valid) == num_points:\n",
        "        check = 1         \n",
        "    return sum(valid), -(cost+1)/(sum(valid)+1), -cost\n",
        "\n",
        "fitness = fitness2"
      ]
    },
    {
      "cell_type": "code",
      "execution_count": null,
      "metadata": {
        "id": "BpeV-s5YvJlK"
      },
      "outputs": [],
      "source": [
        "def tweak1(state):\n",
        "  s=randint(0,num_sets-1)\n",
        "  while state[s]:\n",
        "    s=randint(0,num_sets-1)\n",
        "  candidate=state\n",
        "  candidate[s]=True\n",
        "  return candidate\n",
        "\n",
        "def tweak2(state):\n",
        "    new_state1 = copy(state)\n",
        "    new_state = copy(state)\n",
        "    r = random()\n",
        "    if r < 0.1:\n",
        "        index = randint(0, num_sets - 1)\n",
        "        new_state[index] = not new_state1[index]\n",
        "        index = randint(0, num_sets - 1)\n",
        "        new_state[index] = not new_state1[index]\n",
        "    else :\n",
        "        index = randint(0, num_sets - 1)\n",
        "        new_state[index] = not new_state1[index]    \n",
        "        \n",
        "    return new_state\n",
        "\n",
        "\n",
        "tweak = tweak1\n"
      ]
    },
    {
      "cell_type": "code",
      "execution_count": null,
      "metadata": {
        "id": "ukovHpVsWzf3"
      },
      "outputs": [],
      "source": [
        "def hill_det(state,n = num_sets/2):\n",
        "  quality=np.zeros(n)\n",
        "  candidates=np.zeros(n)\n",
        "  copy_state=state\n",
        "  for i in range(n):\n",
        "    candidate=tweak(copy_state)\n",
        "    if fitness(candidate)>fitness(state):\n",
        "      copy_state=candidate\n",
        "  return copy_state\n",
        "\n",
        "\n"
      ]
    },
    {
      "cell_type": "code",
      "execution_count": null,
      "metadata": {
        "colab": {
          "base_uri": "https://localhost:8080/",
          "height": 406
        },
        "id": "BfxMqOq0Y_lD",
        "outputId": "8cf776df-47f1-4557-82ec-e43e66ee79cd"
      },
      "outputs": [],
      "source": [
        "# numeric_sets = np.array(sets, dtype=int)\n",
        "\n",
        "# plt.imshow(numeric_sets, cmap='Blues', aspect='auto', extent=[0, num_points, 0, num_sets])\n",
        "# plt.xticks([])  # Hide x-axis ticks\n",
        "# plt.yticks([])  # Hide y-axis ticks\n",
        "# plt.show()\n"
      ]
    },
    {
      "cell_type": "code",
      "execution_count": null,
      "metadata": {},
      "outputs": [],
      "source": [
        "sets = x.toarray()"
      ]
    },
    {
      "cell_type": "markdown",
      "metadata": {
        "id": "nrNR4v8jd0-y"
      },
      "source": [
        "initializiation"
      ]
    },
    {
      "cell_type": "code",
      "execution_count": null,
      "metadata": {
        "id": "TwWPklSphh6V"
      },
      "outputs": [],
      "source": [
        "current_state = [False for _ in range(num_sets)]"
      ]
    },
    {
      "cell_type": "code",
      "execution_count": null,
      "metadata": {
        "id": "bMxYDO7gcTCr"
      },
      "outputs": [],
      "source": [
        "# start=randint(0, num_sets-1)\n",
        "# remove=np.argwhere(numeric_sets[start] == 1)\n",
        "# sets=np.delete(numeric_sets,remove,axis=1)"
      ]
    },
    {
      "cell_type": "code",
      "execution_count": null,
      "metadata": {
        "id": "N7Af_gnU0QLx"
      },
      "outputs": [],
      "source": [
        "step=0\n",
        "while not fitness(current_state)[0]==num_points:\n",
        "  current_state=hill_det(current_state,5)\n",
        "  step+=1\n",
        "  "
      ]
    },
    {
      "cell_type": "code",
      "execution_count": null,
      "metadata": {},
      "outputs": [],
      "source": [
        "print(fitness(current_state),'calls',step)\n"
      ]
    }
  ],
  "metadata": {
    "colab": {
      "provenance": []
    },
    "kernelspec": {
      "display_name": ".venv",
      "language": "python",
      "name": "python3"
    },
    "language_info": {
      "codemirror_mode": {
        "name": "ipython",
        "version": 3
      },
      "file_extension": ".py",
      "mimetype": "text/x-python",
      "name": "python",
      "nbconvert_exporter": "python",
      "pygments_lexer": "ipython3",
      "version": "3.12.0"
    }
  },
  "nbformat": 4,
  "nbformat_minor": 0
}
