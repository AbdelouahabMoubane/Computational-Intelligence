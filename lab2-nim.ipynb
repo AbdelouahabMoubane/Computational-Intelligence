{
 "cells": [
  {
   "cell_type": "markdown",
   "metadata": {
    "pycharm": {
     "name": "#%% md\n"
    }
   },
   "source": [
    "Copyright **`(c)`** 2022 Giovanni Squillero `<squillero@polito.it>`  \n",
    "[`https://github.com/squillero/computational-intelligence`](https://github.com/squillero/computational-intelligence)  \n",
    "Free for personal or classroom use; see [`LICENSE.md`](https://github.com/squillero/computational-intelligence/blob/master/LICENSE.md) for details.  \n"
   ]
  },
  {
   "cell_type": "markdown",
   "metadata": {
    "pycharm": {
     "name": "#%%\n"
    }
   },
   "source": [
    "# Lab 2: ES\n",
    "\n",
    "## Task\n",
    "\n",
    "Write agents able to play [*Nim*](https://en.wikipedia.org/wiki/Nim), with an arbitrary number of rows and an upper bound $k$ on the number of objects that can be removed in a turn (a.k.a., *subtraction game*).\n",
    "\n",
    "The goal of the game is to **avoid** taking the last object.\n",
    "\n",
    "* Task2.1: An agent using fixed rules based on *nim-sum* (i.e., an *expert system*)\n",
    "* Task2.2: An agent using evolved rules using ES\n",
    "\n",
    "## Instructions\n",
    "\n",
    "* Create the directory `lab2` inside the course repo \n",
    "* Put a `README.md` and your solution (all the files, code and auxiliary data if needed)\n",
    "\n",
    "## Notes\n",
    "\n",
    "* Working in group is not only allowed, but recommended (see: [Ubuntu](https://en.wikipedia.org/wiki/Ubuntu_philosophy) and [Cooperative Learning](https://files.eric.ed.gov/fulltext/EJ1096789.pdf)). Collaborations must be explicitly declared in the `README.md`.\n",
    "* [Yanking](https://www.emacswiki.org/emacs/KillingAndYanking) from the internet is allowed, but sources must be explicitly declared in the `README.md`.\n",
    "\n"
   ]
  },
  {
   "cell_type": "code",
   "execution_count": 103,
   "metadata": {},
   "outputs": [],
   "source": [
    "import logging\n",
    "from pprint import pprint, pformat\n",
    "from collections import namedtuple\n",
    "import random\n",
    "from random import randint\n",
    "from copy import deepcopy, copy\n",
    "from typing import Callable\n",
    "import math\n"
   ]
  },
  {
   "cell_type": "markdown",
   "metadata": {},
   "source": [
    "## The *Nim* and *Nimply* classes"
   ]
  },
  {
   "cell_type": "code",
   "execution_count": 104,
   "metadata": {},
   "outputs": [],
   "source": [
    "Nimply = namedtuple(\"Nimply\", \"row, num_objects\")\n"
   ]
  },
  {
   "cell_type": "code",
   "execution_count": 105,
   "metadata": {},
   "outputs": [],
   "source": [
    "class Nim:\n",
    "    def __init__(self, num_rows: int, k: int = None) -> None:\n",
    "        self._rows = [i * 2 + 1 for i in range(num_rows)]\n",
    "        self._k = k\n",
    "\n",
    "    def __bool__(self):\n",
    "        return sum(self._rows) > 0\n",
    "\n",
    "    def __str__(self):\n",
    "        return \"<\" + \" \".join(str(_) for _ in self._rows) + \">\"\n",
    "\n",
    "    @property\n",
    "    def rows(self) -> tuple:\n",
    "        return tuple(self._rows)\n",
    "\n",
    "    def nimming(self, ply: Nimply) -> None:\n",
    "        row, num_objects = ply\n",
    "        assert self._rows[row] >= num_objects\n",
    "        assert self._k is None or num_objects <= self._k\n",
    "        self._rows[row] -= num_objects\n"
   ]
  },
  {
   "cell_type": "markdown",
   "metadata": {},
   "source": [
    "## Sample (and silly) startegies "
   ]
  },
  {
   "cell_type": "code",
   "execution_count": 106,
   "metadata": {},
   "outputs": [],
   "source": [
    "def pure_random(state: Nim) -> Nimply:\n",
    "    \"\"\"A completely random move\"\"\"\n",
    "    row = random.choice([r for r, c in enumerate(state.rows) if c > 0])\n",
    "    num_objects = random.randint(1, state.rows[row])\n",
    "    return Nimply(row, num_objects)\n"
   ]
  },
  {
   "cell_type": "code",
   "execution_count": 107,
   "metadata": {},
   "outputs": [],
   "source": [
    "def gabriele(state: Nim) -> Nimply:\n",
    "    \"\"\"Pick always the maximum possible number of the lowest row\"\"\"\n",
    "    possible_moves = [(r, o) for r, c in enumerate(state.rows) for o in range(1, c + 1)]\n",
    "    return Nimply(*max(possible_moves, key=lambda m: (-m[0], m[1])))\n"
   ]
  },
  {
   "cell_type": "code",
   "execution_count": 108,
   "metadata": {},
   "outputs": [],
   "source": [
    "def adaptive(state: Nim) -> Nimply:\n",
    "    \"\"\"A strategy that can adapt its parameters\"\"\"\n",
    "    genome = {\"love_small\": 0.5}\n"
   ]
  },
  {
   "cell_type": "code",
   "execution_count": 109,
   "metadata": {},
   "outputs": [],
   "source": [
    "import numpy as np\n",
    "\n",
    "\n",
    "def nim_sum(state: Nim) -> int:\n",
    "    tmp = np.array([tuple(int(x) for x in f\"{c:032b}\") for c in state.rows])\n",
    "    xor = tmp.sum(axis=0) % 2\n",
    "    return int(\"\".join(str(_) for _ in xor), base=2)\n",
    "\n",
    "\n",
    "def analize(raw: Nim) -> dict:\n",
    "    cooked = dict()\n",
    "    cooked[\"possible_moves\"] = dict()\n",
    "    for ply in (Nimply(r, o) for r, c in enumerate(raw.rows) for o in range(1, c + 1)):\n",
    "        tmp = deepcopy(raw)\n",
    "        tmp.nimming(ply)\n",
    "        cooked[\"possible_moves\"][ply] = nim_sum(tmp)\n",
    "    return cooked\n",
    "\n",
    "\n",
    "def optimal(state: Nim) -> Nimply:\n",
    "    analysis = analize(state)\n",
    "    logging.debug(f\"analysis:\\n{pformat(analysis)}\")\n",
    "    spicy_moves = [ply for ply, ns in analysis[\"possible_moves\"].items() if ns != 0]\n",
    "    if not spicy_moves:\n",
    "        spicy_moves = list(analysis[\"possible_moves\"].keys())\n",
    "    ply = random.choice(spicy_moves)\n",
    "    return ply\n",
    "\n",
    "\n"
   ]
  },
  {
   "cell_type": "markdown",
   "metadata": {},
   "source": [
    "Copyright **(c)** 2023 Abdelouahab Moubane <abdelmub@gmail.com>\n",
    "https://github.com/AbdelouahabMoubane"
   ]
  },
  {
   "cell_type": "code",
   "execution_count": 110,
   "metadata": {},
   "outputs": [],
   "source": [
    "def agent_rulebased(state: Nim) -> Nimply:\n",
    "    analysis = analize(state)\n",
    "    logging.debug(f\"analysis:\\n{pformat(analysis)}\")\n",
    "    spicy_moves = [ply for ply, ns in analysis[\"possible_moves\"].items() if ns == 1]\n",
    "    if not spicy_moves:\n",
    "        spicy_moves = list(analysis[\"possible_moves\"].keys())\n",
    "    ply = random.choice(spicy_moves)\n",
    "    return ply"
   ]
  },
  {
   "cell_type": "code",
   "execution_count": 111,
   "metadata": {},
   "outputs": [],
   "source": [
    "#not good\n",
    "def ES(p):  \n",
    "    def My_strategy(state: Nim) -> Nimply:\n",
    "        n_rows = 5\n",
    "        xor_candidates = list()\n",
    "        #p = list(np.ones(2**n_rows-1))\n",
    "        for i in range(2**(n_rows-1)):\n",
    "            xor_candidates.append(i)\n",
    "        analysis = analize(state)\n",
    "        logging.debug(f\"analysis:\\n{pformat(analysis)}\")\n",
    "        spicy_moves = [ply for ply, ns in analysis[\"possible_moves\"].items() if ns == xor_candidates[p.argmax()]] \n",
    "        #random.choices(xor_candidates,p,k=1)[0] #xor_candidates[p.argmax()]\n",
    "        if not spicy_moves:\n",
    "            spicy_moves = list(analysis[\"possible_moves\"].keys())\n",
    "        ply = random.choice(spicy_moves)    \n",
    "        return ply\n",
    "    return My_strategy\n",
    "\n"
   ]
  },
  {
   "cell_type": "code",
   "execution_count": 112,
   "metadata": {},
   "outputs": [],
   "source": [
    "# very good\n",
    "def ES1(p): \n",
    "    \n",
    "    def My_strategy(state: Nim) -> Nimply:\n",
    "        temp = copy(p) \n",
    "        analysis = analize(state)\n",
    "        logging.debug(f\"analysis:\\n{pformat(analysis)}\")\n",
    "        spicy_moves = []\n",
    "        while len(spicy_moves) == 0:\n",
    "            spicy_moves = [ply for ply, ns in analysis[\"possible_moves\"].items() if ns == temp.argmax()] \n",
    "            #random.choices(xor_candidates,p,k=1)[0] #xor_candidates[p.argmax()]\n",
    "            \n",
    "            if len(spicy_moves)==0:\n",
    "                temp = np.delete(temp, temp.argmax()) \n",
    "            else:\n",
    "                break    \n",
    "    \n",
    "        ply = random.choice(spicy_moves) \n",
    "        \n",
    "        return ply\n",
    "    return My_strategy"
   ]
  },
  {
   "cell_type": "markdown",
   "metadata": {},
   "source": [
    "## Oversimplified match"
   ]
  },
  {
   "cell_type": "code",
   "execution_count": 113,
   "metadata": {},
   "outputs": [
    {
     "name": "stderr",
     "output_type": "stream",
     "text": [
      "INFO:root:init : <1 3 5 7 9>\n",
      "INFO:root:ply: player 0 plays Nimply(row=2, num_objects=1)\n",
      "INFO:root:status: <1 3 4 7 9>\n",
      "INFO:root:ply: player 1 plays Nimply(row=3, num_objects=7)\n",
      "INFO:root:status: <1 3 4 0 9>\n",
      "INFO:root:ply: player 0 plays Nimply(row=2, num_objects=4)\n",
      "INFO:root:status: <1 3 0 0 9>\n",
      "INFO:root:ply: player 1 plays Nimply(row=0, num_objects=1)\n",
      "INFO:root:status: <0 3 0 0 9>\n",
      "INFO:root:ply: player 0 plays Nimply(row=4, num_objects=9)\n",
      "INFO:root:status: <0 3 0 0 0>\n",
      "INFO:root:ply: player 1 plays Nimply(row=1, num_objects=2)\n",
      "INFO:root:status: <0 1 0 0 0>\n",
      "INFO:root:ply: player 0 plays Nimply(row=1, num_objects=1)\n",
      "INFO:root:status: <0 0 0 0 0>\n",
      "INFO:root:status: Player 1 won!\n"
     ]
    }
   ],
   "source": [
    "logging.getLogger().setLevel(logging.INFO)\n",
    "\n",
    "strategy = (optimal, pure_random)\n",
    "\n",
    "nim = Nim(5)\n",
    "logging.info(f\"init : {nim}\")\n",
    "player = 0\n",
    "while nim:\n",
    "    ply = strategy[player](nim)\n",
    "    logging.info(f\"ply: player {player} plays {ply}\")\n",
    "    nim.nimming(ply)\n",
    "    logging.info(f\"status: {nim}\")\n",
    "    player = 1 - player\n",
    "logging.info(f\"status: Player {player} won!\")\n"
   ]
  },
  {
   "cell_type": "markdown",
   "metadata": {},
   "source": [
    "## Fitness function"
   ]
  },
  {
   "cell_type": "code",
   "execution_count": 114,
   "metadata": {},
   "outputs": [],
   "source": [
    "def Comparison(n_rows, n_games, strategy0, strategy1):\n",
    "    count = 0\n",
    "    for i in range(n_games):\n",
    "\n",
    "        logging.getLogger().setLevel(logging.INFO)\n",
    "\n",
    "        strategy = (strategy0, strategy1)\n",
    "\n",
    "        nim = Nim(n_rows)\n",
    "        #logging.info(f\"init : {nim}\")\n",
    "        #player=randint(0,1)\n",
    "        if i < n_games/2:\n",
    "            player = 0\n",
    "        else:\n",
    "            player = 1    \n",
    "        while nim:\n",
    "            ply = strategy[player](nim)\n",
    "            #logging.info(f\"ply: player {player} plays {ply}\")\n",
    "            nim.nimming(ply)\n",
    "            #logging.info(f\"status: {nim}\")\n",
    "            player = 1 - player\n",
    "            #logging.info(f\"status: Player {player} won!\")\n",
    "        if player == 0:\n",
    "            count+=1   \n",
    "    return count/n_games\n",
    "\n",
    "fitness = Comparison        "
   ]
  },
  {
   "cell_type": "markdown",
   "metadata": {},
   "source": [
    "## Parameters game Nim"
   ]
  },
  {
   "cell_type": "code",
   "execution_count": 115,
   "metadata": {},
   "outputs": [],
   "source": [
    "n_rows = 5\n",
    "n_games = 20"
   ]
  },
  {
   "cell_type": "code",
   "execution_count": 116,
   "metadata": {},
   "outputs": [
    {
     "data": {
      "text/plain": [
       "1.0"
      ]
     },
     "execution_count": 116,
     "metadata": {},
     "output_type": "execute_result"
    }
   ],
   "source": [
    "Comparison(n_rows, n_games, agent_rulebased, optimal)"
   ]
  },
  {
   "cell_type": "markdown",
   "metadata": {},
   "source": [
    "## Population"
   ]
  },
  {
   "cell_type": "code",
   "execution_count": 117,
   "metadata": {},
   "outputs": [
    {
     "data": {
      "text/plain": [
       "array([1.05666129, 1.15797482, 1.3263528 , 1.07950919, 1.1307822 ,\n",
       "       1.21459833, 1.23475064, 1.14090486, 1.02814011, 1.02370368,\n",
       "       1.06913992, 1.07358765, 1.2479187 , 1.12860309, 1.97399026,\n",
       "       1.00908893])"
      ]
     },
     "execution_count": 117,
     "metadata": {},
     "output_type": "execute_result"
    }
   ],
   "source": [
    "mu = 0\n",
    "sigma = 2\n",
    "sigma_pop = 2\n",
    "n = 2**(n_rows-1)\n",
    "\n",
    "population_size = 100\n",
    "population = list()\n",
    "for i in range(population_size):\n",
    "    # population.append(abs(np.ones(n) + np.random.normal(mu,sigma_pop, n)))\n",
    "    population.append(np.ones(n) + np.random.exponential(0.2, n))\n",
    "\n",
    "population[0]"
   ]
  },
  {
   "cell_type": "markdown",
   "metadata": {},
   "source": [
    "## Parent selection"
   ]
  },
  {
   "cell_type": "markdown",
   "metadata": {},
   "source": [
    "## Offspring selection (1+λ)-ES"
   ]
  },
  {
   "cell_type": "code",
   "execution_count": 118,
   "metadata": {},
   "outputs": [],
   "source": [
    "def offspring(parent, mean, variance, lam, n):\n",
    "    best_offspring = list()\n",
    "    best_offspring.append(parent)\n",
    "    for i in range(lam):    \n",
    "        par = copy(parent)\n",
    "        for j in range(n):\n",
    "            # if parent[j] < 0.5:\n",
    "            #     par[j] = 0\n",
    "            # else:\n",
    "            par[j] = abs(par[j]+np.random.normal(mean, variance, 1))[0]  \n",
    "            # par[j] = par[j]+np.random.gamma(2,2, 1)  \n",
    "        #par = abs(par + np.random.normal(mean, variance, len(parent)))\n",
    "\n",
    "    best_offspring.append(par)\n",
    "\n",
    "    return best_offspring           \n",
    "\n"
   ]
  },
  {
   "cell_type": "code",
   "execution_count": 119,
   "metadata": {},
   "outputs": [
    {
     "data": {
      "text/plain": [
       "16"
      ]
     },
     "execution_count": 119,
     "metadata": {},
     "output_type": "execute_result"
    }
   ],
   "source": [
    "steps = 200\n",
    "iterations = 0\n",
    "lam = 20\n",
    "n = 2**(n_rows-1)\n",
    "best_parent = random.choice(population)\n",
    "for i in range(steps):\n",
    "    if fitness(n_rows, n_games, ES1(best_parent), optimal) > 0.85:\n",
    "        break\n",
    "    tot_offspring = offspring(best_parent, mu, sigma, lam, n)\n",
    "    fit = list()\n",
    "\n",
    "    for j in range(len(tot_offspring)):\n",
    "        fit.append(fitness(n_rows, n_games, ES1(tot_offspring[j]), optimal))\n",
    "\n",
    "    combined = list(zip(tot_offspring, fit))\n",
    "    combined_sorted = sorted(combined, key=lambda x: x[1], reverse=True)\n",
    "    top_fit = combined_sorted[:9]\n",
    "    top_individuals = [elem[0] for elem in top_fit]\n",
    "        \n",
    "    best_parent = np.array(random.choice(top_individuals))\n",
    "    iterations +=1   \n",
    "\n",
    "best_parent\n",
    "\n",
    "len(best_parent)"
   ]
  },
  {
   "cell_type": "code",
   "execution_count": 120,
   "metadata": {},
   "outputs": [
    {
     "data": {
      "text/plain": [
       "array([ 4.83384266, 11.02170902,  7.7559786 ,  7.81871358,  0.45796079,\n",
       "       12.90568604,  3.38263864,  8.31173991,  5.18192479,  6.65010054,\n",
       "       25.22871268, 11.4342132 , 15.30281033, 11.64000012,  0.56622553,\n",
       "       11.42411205])"
      ]
     },
     "execution_count": 120,
     "metadata": {},
     "output_type": "execute_result"
    }
   ],
   "source": [
    "best_parent"
   ]
  },
  {
   "cell_type": "code",
   "execution_count": 127,
   "metadata": {},
   "outputs": [
    {
     "data": {
      "text/plain": [
       "0.95"
      ]
     },
     "execution_count": 127,
     "metadata": {},
     "output_type": "execute_result"
    }
   ],
   "source": [
    "Comparison(n_rows, n_games, ES1(best_parent), optimal)"
   ]
  },
  {
   "cell_type": "code",
   "execution_count": 122,
   "metadata": {},
   "outputs": [
    {
     "data": {
      "text/plain": [
       "35"
      ]
     },
     "execution_count": 122,
     "metadata": {},
     "output_type": "execute_result"
    }
   ],
   "source": [
    "iterations"
   ]
  }
 ],
 "metadata": {
  "kernelspec": {
   "display_name": "Python 3.10.7 ('ci22-dPIXJ0_o-py3.10')",
   "language": "python",
   "name": "python3"
  },
  "language_info": {
   "codemirror_mode": {
    "name": "ipython",
    "version": 3
   },
   "file_extension": ".py",
   "mimetype": "text/x-python",
   "name": "python",
   "nbconvert_exporter": "python",
   "pygments_lexer": "ipython3",
   "version": "3.12.0"
  },
  "vscode": {
   "interpreter": {
    "hash": "10197e8e2f2aa67e2c349105091c77f4cd384fce4877865f002d9ec653f96bc0"
   }
  }
 },
 "nbformat": 4,
 "nbformat_minor": 2
}
