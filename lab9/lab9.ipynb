{
 "cells": [
  {
   "cell_type": "markdown",
   "metadata": {},
   "source": [
    "Copyright **`(c)`** 2023 Giovanni Squillero `<giovanni.squillero@polito.it>`  \n",
    "[`https://github.com/squillero/computational-intelligence`](https://github.com/squillero/computational-intelligence)  \n",
    "Free for personal or classroom use; see [`LICENSE.md`](https://github.com/squillero/computational-intelligence/blob/master/LICENSE.md) for details.  "
   ]
  },
  {
   "cell_type": "markdown",
   "metadata": {},
   "source": [
    "# LAB9\n",
    "\n",
    "Write a local-search algorithm (eg. an EA) able to solve the *Problem* instances 1, 2, 5, and 10 on a 1000-loci genomes, using a minimum number of fitness calls. That's all.\n",
    "\n",
    "### Deadlines:\n",
    "\n",
    "* Submission: Sunday, December 3 ([CET](https://www.timeanddate.com/time/zones/cet))\n",
    "* Reviews: Sunday, December 10 ([CET](https://www.timeanddate.com/time/zones/cet))\n",
    "\n",
    "Notes:\n",
    "\n",
    "* Reviews will be assigned  on Monday, December 4\n",
    "* You need to commit in order to be selected as a reviewer (ie. better to commit an empty work than not to commit)"
   ]
  },
  {
   "cell_type": "code",
   "execution_count": 1,
   "metadata": {},
   "outputs": [
    {
     "name": "stderr",
     "output_type": "stream",
     "text": [
      "c:\\Users\\abdel\\OneDrive\\Desktop\\Ingegneria matematica\\Computational Intelligence\\.venv\\Lib\\site-packages\\tqdm\\auto.py:21: TqdmWarning: IProgress not found. Please update jupyter and ipywidgets. See https://ipywidgets.readthedocs.io/en/stable/user_install.html\n",
      "  from .autonotebook import tqdm as notebook_tqdm\n"
     ]
    }
   ],
   "source": [
    "import random\n",
    "from random import choices, randint\n",
    "import numpy as np\n",
    "from copy import deepcopy\n",
    "from heapq import heappush, heappop, heapify, heappushpop, nlargest\n",
    "from tqdm.auto import tqdm\n",
    "import time\n",
    "import matplotlib.pyplot as plt\n",
    "\n",
    "import lab9_lib"
   ]
  },
  {
   "cell_type": "code",
   "execution_count": 2,
   "metadata": {},
   "outputs": [],
   "source": [
    "# fitness = lab9_lib.make_problem(1)\n",
    "# for n in range(10):\n",
    "#     ind = choices([1, 1, 1, 1, 0], k=50)\n",
    "#     print(f\"{''.join(str(g) for g in ind)}: {fitness(ind):.2%}\")\n",
    "\n",
    "# print(fitness.calls)"
   ]
  },
  {
   "cell_type": "markdown",
   "metadata": {},
   "source": [
    "Copyright **(c)** 2023 Abdelouahab Moubane <abdelmub@gmail.com>\n",
    "https://github.com/AbdelouahabMoubane"
   ]
  },
  {
   "cell_type": "code",
   "execution_count": 3,
   "metadata": {},
   "outputs": [],
   "source": [
    "\"Xover not good\"\n",
    "def xover_bisection(votes_parent1, votes_parent2):\n",
    "    \"\"\"\n",
    "    Function executing a simple crossover between 2 parents\n",
    "\n",
    "    return: genome of the new individual\n",
    "    \"\"\"\n",
    "    if not len(votes_parent1[1]) == len(votes_parent2[1]):\n",
    "        print(\"Parent lenght must be the same\")\n",
    "        return None\n",
    "\n",
    "    xover_point = len(votes_parent1[1]) // 2\n",
    "\n",
    "    newborn = votes_parent1[1][:xover_point] + votes_parent2[1][xover_point:]\n",
    "    return newborn\n",
    "\n",
    "\"Xover good\"\n",
    "def xover_bisection_weight(votes_parent1: tuple, votes_parent2: tuple):\n",
    "    \"\"\"\n",
    "    Function executing a random crossover between 2 parents with weights that depends on fitness of parents or choosen manually\n",
    "\n",
    "    return: genome of the new individual\n",
    "    \"\"\"\n",
    "    if not len(votes_parent1[1]) == len(votes_parent2[1]):\n",
    "        print(\"Parent lenght must be the same\")\n",
    "        return None \n",
    "\n",
    "    newborn = deepcopy(votes_parent2[1])\n",
    "    #p=0.5\n",
    "    p = votes_parent1[0]/(votes_parent1[0]+votes_parent2[0]+0.0000001)   \n",
    "    for i in range(len(newborn)):\n",
    "        if random.random() < p:\n",
    "            newborn[i] = votes_parent1[1][i]            \n",
    "     \n",
    "    return newborn\n",
    "\n",
    "\n",
    "def tournament(votes, tournament_size: int):\n",
    "    \"\"\"\n",
    "    Function that choses a parent with tournament selection\n",
    "    tournament_size: (int) size of the tournament\n",
    "    return: index of the parent\n",
    "    \"\"\"\n",
    "    candidates = [randint(0, len(votes)-1) for _ in range(tournament_size)]\n",
    "    \n",
    "    return candidates[np.argmax(votes[i][0] for i in candidates)]\n",
    "\n",
    "def roulette(votes, size: int):\n",
    "    \"\"\"\n",
    "    Function that choses a parent with roulette selection\n",
    "    \n",
    "    return: index of the parent\n",
    "    \"\"\"\n",
    "    size=size #the line of code that does nothing, but shield from problems/warnings of not use the input size\n",
    "              #so I can use it like tournament() in EA\n",
    "    break_votes = zip(*votes)\n",
    "    inverted_lists = [list(item) for item in break_votes]\n",
    "    parent = random.choices(inverted_lists[1],inverted_lists[0])\n",
    "    #parent = random.choices(inverted_lists[1],np.exp(inverted_lists[0]))\n",
    "    index = [i for i, v in enumerate(votes) if v[1] == parent[0]]\n",
    "    \n",
    "    return index[0]\n",
    "\n",
    "def random_change(parent,n):\n",
    "    '''\n",
    "    Genetic Operator that mutates a parent\n",
    "    '''\n",
    "    for i in range(n):\n",
    "        index = randint(0, len(parent)-1)\n",
    "        newborn = deepcopy(parent)\n",
    "        newborn[index] = 1 - newborn[index]\n",
    "    return newborn\n",
    "\n",
    "def EA(\n",
    "    mu: int,\n",
    "    lamda: int,\n",
    "    generations: int,\n",
    "    fitness,\n",
    "    mutation_func,\n",
    "    xover_func,\n",
    "    parent_selection_func,\n",
    "    stop: int\n",
    "):\n",
    "    \"\"\"\n",
    "    Function execution a Genetic Algorithm\n",
    "    mu: (int) is the population size\n",
    "    lamda: (int) is the number of parent that are selected each generation\n",
    "    generations: (int) is the number of generation that the algorithm will run\n",
    "    fitness: function that evaluate the individual\n",
    "    mutation_func: genetic operator that, given a single parent makes a mutation\n",
    "    xover_func: genetic operator that, given 2 parents, makes an offspring\n",
    "    parent_selection_func: selection of a parent\n",
    "    stop: maximum number of generations without improvement, the code use different thresholds, \n",
    "          larger for difficult problems, I'm more patient in the problems 5 and 10\n",
    "    \"\"\"\n",
    "    MUTATION_PROB = 0.1\n",
    "    SELECTIVE_PRESSURE = 5\n",
    "    # matrix where each row is an individual of the population\n",
    "    #population = [choices([0, 1], k=1000) for _ in range(mu)]\n",
    "    population = [random.choices([0, 1],[random.random()+0.01, random.random()+0.01], k=1000) for _ in range(mu)]\n",
    "    # vector with fitness for each individual in the population\n",
    "    population_fitness = [fitness(population[i]) for i in range(mu)]\n",
    "\n",
    "    votes = list(zip(population_fitness, population))\n",
    "    heapify(votes)\n",
    "\n",
    "    time_mutation = 0\n",
    "    time_xover = 0\n",
    "    time_heap =0\n",
    "    time_parent_selection = 0\n",
    "\n",
    "    x = []\n",
    "\n",
    "    for step in tqdm(range(generations)):\n",
    "        for newborn in range(lamda):\n",
    "            if random.random() < MUTATION_PROB:\n",
    "                # do mutation\n",
    "                # extract the index of the parent\n",
    "                time_parent_selection_start = time.time()\n",
    "                parent_index = parent_selection_func(\n",
    "                    votes, SELECTIVE_PRESSURE\n",
    "                )\n",
    "                time_parent_selection_stop = time.time()\n",
    "                time_parent_selection += time_parent_selection_stop - time_parent_selection_start\n",
    "                # create a new offspring\n",
    "                time_mutation_start = time.time()\n",
    "                newborn = mutation_func(population[parent_index],10)\n",
    "                time_mutation_stop = time.time()\n",
    "                time_mutation += time_mutation_stop - time_mutation_start\n",
    "                time_heap_start = time.time()\n",
    "                heappushpop(votes, (fitness(newborn), newborn))\n",
    "                time_heap_stop = time.time()\n",
    "                time_heap += time_heap_stop - time_heap_start\n",
    "\n",
    "            else:\n",
    "                # 2 parents and xover\n",
    "                time_parent_selection_start = time.time()\n",
    "                parent_index1 = parent_selection_func(\n",
    "                    votes, SELECTIVE_PRESSURE\n",
    "                )\n",
    "                parent_index2 = parent_selection_func(\n",
    "                    votes, SELECTIVE_PRESSURE\n",
    "                )\n",
    "                time_parent_selection_stop = time.time()\n",
    "                time_parent_selection += time_parent_selection_stop - time_parent_selection_start\n",
    "                time_xover_start = time.time()\n",
    "                newborn = xover_func(\n",
    "                    votes[parent_index1], votes[parent_index2]\n",
    "                )\n",
    "                time_xover_stop = time.time()\n",
    "                time_xover += time_xover_stop - time_xover_start\n",
    "                time_heap_start = time.time()\n",
    "                heappushpop(votes, (fitness(newborn), newborn))\n",
    "                time_heap_stop = time.time()\n",
    "                time_heap += time_heap_stop - time_heap_start\n",
    "\n",
    "        x.append(nlargest(1, votes)[0][0]) \n",
    "        if x.count(x[step]) > stop or x[step] > 0.99:\n",
    "            break       \n",
    "\n",
    "    print(\"Time mutations: \", time_mutation)              \n",
    "    print(\"Time parent selections: \",time_parent_selection)\n",
    "    print(\"Time xovers: \",time_xover)\n",
    "    print(\"Time heap: \", time_heap)\n",
    "    \n",
    "    plt.plot(x, marker='', linestyle='-', color='g')\n",
    "    plt.ylim(0,1)\n",
    "    plt.show()\n",
    "    \n",
    "    return max(votes)"
   ]
  },
  {
   "cell_type": "code",
   "execution_count": 4,
   "metadata": {},
   "outputs": [
    {
     "name": "stderr",
     "output_type": "stream",
     "text": [
      "  3%|▎         | 134/5000 [00:10<06:03, 13.39it/s]\n"
     ]
    },
    {
     "name": "stdout",
     "output_type": "stream",
     "text": [
      "Time mutations:  3.156470537185669\n",
      "Time parent selections:  2.25838303565979\n",
      "Time xovers:  3.7906394004821777\n",
      "Time heap:  0.7070174217224121\n"
     ]
    },
    {
     "data": {
      "image/png": "[encoded data removed]",
      "text/plain": [
       "<Figure size 640x480 with 1 Axes>"
      ]
     },
     "metadata": {},
     "output_type": "display_data"
    },
    {
     "name": "stdout",
     "output_type": "stream",
     "text": [
      "0.991 7250\n"
     ]
    }
   ],
   "source": [
    "fitness = lab9_lib.make_problem(1)\n",
    "\n",
    "best = EA(500, 50, 5000, fitness, random_change, xover_bisection_weight, roulette, 100)\n",
    "print(best[0], fitness.calls)"
   ]
  },
  {
   "cell_type": "code",
   "execution_count": 5,
   "metadata": {},
   "outputs": [
    {
     "name": "stderr",
     "output_type": "stream",
     "text": [
      "  4%|▍         | 211/5000 [00:15<05:55, 13.48it/s]\n"
     ]
    },
    {
     "name": "stdout",
     "output_type": "stream",
     "text": [
      "Time mutations:  5.271987438201904\n",
      "Time parent selections:  3.2927989959716797\n",
      "Time xovers:  5.7893147468566895\n",
      "Time heap:  1.1396007537841797\n"
     ]
    },
    {
     "data": {
      "image/png": "[encoded data removed]",
      "text/plain": [
       "<Figure size 640x480 with 1 Axes>"
      ]
     },
     "metadata": {},
     "output_type": "display_data"
    },
    {
     "name": "stdout",
     "output_type": "stream",
     "text": [
      "0.976 11100\n"
     ]
    }
   ],
   "source": [
    "fitness = lab9_lib.make_problem(2)\n",
    "\n",
    "best = EA(500, 50, 5000, fitness, random_change, xover_bisection_weight, roulette, 100)\n",
    "print(best[0], fitness.calls)"
   ]
  },
  {
   "cell_type": "code",
   "execution_count": 22,
   "metadata": {},
   "outputs": [
    {
     "name": "stderr",
     "output_type": "stream",
     "text": [
      " 11%|█         | 535/5000 [00:40<05:37, 13.23it/s]\n"
     ]
    },
    {
     "name": "stdout",
     "output_type": "stream",
     "text": [
      "Time mutations:  13.203701734542847\n",
      "Time parent selections:  8.750098943710327\n",
      "Time xovers:  15.173804759979248\n",
      "Time heap:  2.8938941955566406\n"
     ]
    },
    {
     "data": {
      "image/png": "[encoded data removed]",
      "text/plain": [
       "<Figure size 640x480 with 1 Axes>"
      ]
     },
     "metadata": {},
     "output_type": "display_data"
    },
    {
     "name": "stdout",
     "output_type": "stream",
     "text": [
      "0.94 27300\n"
     ]
    }
   ],
   "source": [
    "fitness = lab9_lib.make_problem(5)\n",
    "\n",
    "best = EA(500, 50, 5000, fitness, random_change, xover_bisection_weight, roulette, 250)\n",
    "print(best[0], fitness.calls)"
   ]
  },
  {
   "cell_type": "code",
   "execution_count": 21,
   "metadata": {},
   "outputs": [
    {
     "name": "stderr",
     "output_type": "stream",
     "text": [
      " 14%|█▎        | 679/5000 [01:00<06:26, 11.19it/s]\n"
     ]
    },
    {
     "name": "stdout",
     "output_type": "stream",
     "text": [
      "Time mutations:  16.26291275024414\n",
      "Time parent selections:  20.632774591445923\n",
      "Time xovers:  18.877286672592163\n",
      "Time heap:  4.282486438751221\n"
     ]
    },
    {
     "data": {
      "image/png": "[encoded data removed]",
      "text/plain": [
       "<Figure size 640x480 with 1 Axes>"
      ]
     },
     "metadata": {},
     "output_type": "display_data"
    },
    {
     "name": "stdout",
     "output_type": "stream",
     "text": [
      "0.99 34500\n"
     ]
    }
   ],
   "source": [
    "fitness = lab9_lib.make_problem(10)\n",
    "\n",
    "best = EA(500, 50, 5000, fitness, random_change, xover_bisection_weight, roulette, 250)\n",
    "print(best[0], fitness.calls)\n"
   ]
  }
 ],
 "metadata": {
  "kernelspec": {
   "display_name": "ci-fLJ3OwGs-py3.12",
   "language": "python",
   "name": "python3"
  },
  "language_info": {
   "codemirror_mode": {
    "name": "ipython",
    "version": 3
   },
   "file_extension": ".py",
   "mimetype": "text/x-python",
   "name": "python",
   "nbconvert_exporter": "python",
   "pygments_lexer": "ipython3",
   "version": "3.12.0"
  }
 },
 "nbformat": 4,
 "nbformat_minor": 2
}
