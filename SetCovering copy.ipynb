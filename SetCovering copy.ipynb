{
 "cells": [
  {
   "cell_type": "markdown",
   "metadata": {},
   "source": [
    "Il problema del set covering (SCP) ha in input un insieme N di elementi e un insieme di\n",
    "sottinsiemi di N (N ⊆ 2N). Ad ogni sottinsieme è associato un costo c_ij e si vogliono\n",
    "selezionare i sottinsiemi che coprano tutti gli elementi di N a costo minimo"
   ]
  },
  {
   "cell_type": "code",
   "execution_count": 146,
   "metadata": {},
   "outputs": [],
   "source": [
    "from random import random, seed\n",
    "from math import ceil\n",
    "from functools import reduce\n",
    "from collections import namedtuple, deque\n",
    "from queue import PriorityQueue\n",
    "\n",
    "from tqdm.auto import tqdm\n",
    "import numpy as np"
   ]
  },
  {
   "cell_type": "code",
   "execution_count": 147,
   "metadata": {},
   "outputs": [
    {
     "data": {
      "text/plain": [
       "100"
      ]
     },
     "execution_count": 147,
     "metadata": {},
     "output_type": "execute_result"
    }
   ],
   "source": [
    "seed(7)\n",
    "PROBLEM_SIZE = 70\n",
    "NUM_SETS = 100\n",
    "SETS = tuple(np.array([random() < .3 for _ in range(PROBLEM_SIZE)]) for _ in range(NUM_SETS))\n",
    "\n",
    "SETS = set(tuple(tuple(set) for set in SETS))\n",
    "SETS = list(np.array(set) for set in SETS)\n",
    "\n",
    "SETS.sort(key=lambda x: -sum(x))\n",
    "SETS = tuple(SETS)\n",
    "\n",
    "NUM_SETS = len(SETS)\n",
    "\n",
    "State = namedtuple('State', ['taken', 'not_taken'])\n",
    "\n",
    "len(SETS)"
   ]
  },
  {
   "cell_type": "code",
   "execution_count": 148,
   "metadata": {},
   "outputs": [],
   "source": [
    "def covered(state):\n",
    "    return reduce(\n",
    "        np.logical_or,\n",
    "        [SETS[i] for i in state.taken],\n",
    "        np.array([False for _ in range(PROBLEM_SIZE)]),\n",
    "    )"
   ]
  },
  {
   "cell_type": "code",
   "execution_count": 149,
   "metadata": {},
   "outputs": [],
   "source": [
    "def goal_check(state):\n",
    "    return np.all(reduce(np.logical_or, [SETS[i] for i in state.taken], np.array([False for _ in range(PROBLEM_SIZE)])))\n",
    "\n",
    "\n",
    "def distance(state):\n",
    "    Num_EmptySpaces = PROBLEM_SIZE - np.sum(\n",
    "        reduce(\n",
    "            np.logical_or,\n",
    "            [SETS[i] for i in state.taken],\n",
    "            np.array([False for _ in range(PROBLEM_SIZE)]),\n",
    "        ))\n",
    "    Num_SetsTaken = len(state.taken)\n",
    "    return Num_EmptySpaces\n",
    "\n",
    "def distance_Convex(state):\n",
    "    Num_EmptySpaces = PROBLEM_SIZE - np.sum(\n",
    "        reduce(\n",
    "            np.logical_or,\n",
    "            [SETS[i] for i in state.taken],\n",
    "            np.array([False for _ in range(PROBLEM_SIZE)]),\n",
    "        ))\n",
    "    Num_SetsTaken = len(state.taken)\n",
    "    return 0.1*Num_EmptySpaces+0.9*Num_SetsTaken\n",
    "\n",
    "def distance_A_star(state):\n",
    "    Num_EmptySpaces = PROBLEM_SIZE - np.sum(\n",
    "        reduce(\n",
    "            np.logical_or,\n",
    "            [SETS[i] for i in state.taken],\n",
    "            np.array([False for _ in range(PROBLEM_SIZE)]),\n",
    "        ))\n",
    "    Num_SetsTaken = len(state.taken)\n",
    "    return Num_SetsTaken + Num_EmptySpaces/PROBLEM_SIZE\n",
    "\n",
    "def distance_stochastic(state):\n",
    "    Num_EmptySpaces = PROBLEM_SIZE - np.sum(\n",
    "        reduce(\n",
    "            np.logical_or,\n",
    "            [SETS[i] for i in state.taken],\n",
    "            np.array([False for _ in range(PROBLEM_SIZE)]),\n",
    "        ))\n",
    "    Num_SetsTaken = len(state.taken)\n",
    "    return (Num_SetsTaken/(PROBLEM_SIZE-Num_EmptySpaces+1))+(1-(0.5)**(Num_EmptySpaces))\n",
    "\n",
    "def distance_stochastic_1(state):\n",
    "    Num_EmptySpaces = PROBLEM_SIZE - np.sum(\n",
    "        reduce(\n",
    "            np.logical_or,\n",
    "            [SETS[i] for i in state.taken],\n",
    "            np.array([False for _ in range(PROBLEM_SIZE)]),\n",
    "        ))\n",
    "    Num_SetsTaken = len(state.taken)\n",
    "    p = (2**(PROBLEM_SIZE-Num_EmptySpaces))/(2**PROBLEM_SIZE-Num_SetsTaken)\n",
    "    return (Num_SetsTaken/(PROBLEM_SIZE-Num_EmptySpaces+1))+(1-p)\n",
    "\n",
    "\n",
    "def distance_stochastic_2(state):\n",
    "    Num_EmptySpaces = PROBLEM_SIZE - np.sum(\n",
    "        reduce(\n",
    "            np.logical_or,\n",
    "            [SETS[i] for i in state.taken],\n",
    "            np.array([False for _ in range(PROBLEM_SIZE)]),\n",
    "        ))\n",
    "    Num_SetsTaken = len(state.taken)\n",
    "    p = (2**(PROBLEM_SIZE-Num_EmptySpaces))/(2**PROBLEM_SIZE-Num_SetsTaken)\n",
    "    return (1-p)\n",
    "\n",
    "\n",
    "\n",
    "def distance_deterministic(state):\n",
    "    Num_EmptySpaces = PROBLEM_SIZE - np.sum(\n",
    "        reduce(\n",
    "            np.logical_or,\n",
    "            [SETS[i] for i in state.taken],\n",
    "            np.array([False for _ in range(PROBLEM_SIZE)]),\n",
    "        ))\n",
    "    Num_SetsTaken = len(state.taken)\n",
    "    return (Num_SetsTaken/(PROBLEM_SIZE-Num_EmptySpaces+1))+h4(state)/(PROBLEM_SIZE-Num_SetsTaken+1)\n",
    "\n",
    "\n"
   ]
  },
  {
   "cell_type": "markdown",
   "metadata": {},
   "source": [
    "# A* search"
   ]
  },
  {
   "cell_type": "code",
   "execution_count": 150,
   "metadata": {},
   "outputs": [],
   "source": [
    "\n",
    "def h(state):\n",
    "    largest_set_size = max(sum(s) for s in SETS)\n",
    "    missing_size = PROBLEM_SIZE - sum(covered(state))\n",
    "    optimistic_estimate = ceil(missing_size / largest_set_size)\n",
    "    return optimistic_estimate\n",
    "\n",
    "\n",
    "def h2(state):\n",
    "    already_covered = covered(state)\n",
    "    if np.all(already_covered):\n",
    "        return 0\n",
    "    largest_set_size = max(sum(np.logical_and(s, np.logical_not(already_covered))) for s in SETS)\n",
    "    missing_size = PROBLEM_SIZE - sum(already_covered)\n",
    "    optimistic_estimate = ceil(missing_size / largest_set_size)\n",
    "    return optimistic_estimate\n",
    "\n",
    "\n",
    "def h3(state):\n",
    "    already_covered = covered(state)\n",
    "    if np.all(already_covered):\n",
    "        return 0\n",
    "    missing_size = PROBLEM_SIZE - sum(already_covered)\n",
    "    candidates = sorted((sum(np.logical_and(s, np.logical_not(already_covered))) for s in SETS), reverse=True)\n",
    "    taken = 1\n",
    "    while sum(candidates[:taken]) < missing_size:\n",
    "        taken += 1\n",
    "    return taken\n",
    "\n",
    "\n",
    "def h4(state):\n",
    "    already_covered = covered(state)\n",
    "    index = list()\n",
    "    if np.all(already_covered):\n",
    "        return 0\n",
    "    for i in range(PROBLEM_SIZE):\n",
    "        if already_covered[i] == False:\n",
    "            index.append(i)\n",
    "    missing_size = PROBLEM_SIZE - sum(already_covered)\n",
    "    candidates = sorted((sum([SETS[h][k] for k in index]) for h in state.not_taken),reverse=True)\n",
    "    taken = 1\n",
    "    while sum(candidates[:taken]) < missing_size:\n",
    "        taken += 1\n",
    "    return taken\n",
    "\n",
    "\n",
    "def f(state):\n",
    "    return len(state.taken) + h3(state)\n",
    "\n",
    "def f1(state):\n",
    "    Num_EmptySpaces = PROBLEM_SIZE - np.sum(\n",
    "        reduce(\n",
    "            np.logical_or,\n",
    "            [SETS[i] for i in state.taken],\n",
    "            np.array([False for _ in range(PROBLEM_SIZE)]),\n",
    "        ))\n",
    "    Num_SetsTaken = len(state.taken)\n",
    "    return (Num_SetsTaken/(PROBLEM_SIZE-Num_EmptySpaces+1)) + (1-(0.5)**h3(state))\n",
    "\n",
    "def f2(state):\n",
    "    Num_EmptySpaces = PROBLEM_SIZE - np.sum(\n",
    "        reduce(\n",
    "            np.logical_or,\n",
    "            [SETS[i] for i in state.taken],\n",
    "            np.array([False for _ in range(PROBLEM_SIZE)]),\n",
    "        ))\n",
    "    Num_SetsTaken = len(state.taken)\n",
    "    return (Num_SetsTaken/(PROBLEM_SIZE-Num_EmptySpaces+1)) + h4(state)\n",
    "\n",
    "def distance_deterministic(state):\n",
    "    Num_EmptySpaces = PROBLEM_SIZE - np.sum(\n",
    "        reduce(\n",
    "            np.logical_or,\n",
    "            [SETS[i] for i in state.taken],\n",
    "            np.array([False for _ in range(PROBLEM_SIZE)]),\n",
    "        ))\n",
    "    Num_SetsTaken = len(state.taken)\n",
    "    return (Num_SetsTaken/(PROBLEM_SIZE-Num_EmptySpaces+1))+h4(state)/(PROBLEM_SIZE-Num_SetsTaken+1)\n",
    "\n",
    "\n"
   ]
  },
  {
   "cell_type": "code",
   "execution_count": 151,
   "metadata": {},
   "outputs": [],
   "source": [
    "assert goal_check(\n",
    "    State(set(range(NUM_SETS)), set())\n",
    "), \"Probelm not solvable\""
   ]
  },
  {
   "cell_type": "code",
   "execution_count": 152,
   "metadata": {},
   "outputs": [
    {
     "name": "stderr",
     "output_type": "stream",
     "text": [
      "1it [00:00,  4.40it/s]"
     ]
    },
    {
     "name": "stderr",
     "output_type": "stream",
     "text": [
      "230it [00:56,  4.11it/s]"
     ]
    },
    {
     "name": "stdout",
     "output_type": "stream",
     "text": [
      "Solved in 230 steps (5 tiles)\n"
     ]
    },
    {
     "name": "stderr",
     "output_type": "stream",
     "text": [
      "\n"
     ]
    }
   ],
   "source": [
    "frontier = PriorityQueue()\n",
    "#frontier = SimpleQueue()\n",
    "#frontier = LifoQueue()\n",
    "state = State(set(), set(range(NUM_SETS)))\n",
    "frontier.put((f1(state), state))\n",
    "\n",
    "counter = 0\n",
    "_, current_state = frontier.get()\n",
    "with tqdm(total=None) as pbar:\n",
    "    while not goal_check(current_state):\n",
    "        counter += 1\n",
    "        for action in current_state[1]:\n",
    "            new_state = State(\n",
    "                current_state.taken ^ {action},\n",
    "                current_state.not_taken ^ {action},\n",
    "            )\n",
    "            frontier.put((f1(new_state), new_state))\n",
    "        _, current_state = frontier.get()\n",
    "        pbar.update(1)\n",
    "    pbar.close\n",
    "print(\n",
    "    f\"Solved in {counter:,} steps ({len(current_state.taken)} tiles)\"\n",
    ")"
   ]
  },
  {
   "cell_type": "code",
   "execution_count": 153,
   "metadata": {},
   "outputs": [
    {
     "data": {
      "text/plain": [
       "State(taken={64, 1, 9, 14, 17}, not_taken={0, 2, 3, 4, 5, 6, 7, 8, 10, 11, 12, 13, 15, 16, 18, 19, 20, 21, 22, 23, 24, 25, 26, 27, 28, 29, 30, 31, 32, 33, 34, 35, 36, 37, 38, 39, 40, 41, 42, 43, 44, 45, 46, 47, 48, 49, 50, 51, 52, 53, 54, 55, 56, 57, 58, 59, 60, 61, 62, 63, 65, 66, 67, 68, 69, 70, 71, 72, 73, 74, 75, 76, 77, 78, 79, 80, 81, 82, 83, 84, 85, 86, 87, 88, 89, 90, 91, 92, 93, 94, 95, 96, 97, 98, 99})"
      ]
     },
     "execution_count": 153,
     "metadata": {},
     "output_type": "execute_result"
    }
   ],
   "source": [
    "current_state"
   ]
  },
  {
   "cell_type": "code",
   "execution_count": 154,
   "metadata": {},
   "outputs": [
    {
     "data": {
      "text/plain": [
       "130"
      ]
     },
     "execution_count": 154,
     "metadata": {},
     "output_type": "execute_result"
    }
   ],
   "source": [
    "sum(sum(SETS[i] for i in current_state.taken))"
   ]
  },
  {
   "cell_type": "code",
   "execution_count": 155,
   "metadata": {},
   "outputs": [
    {
     "name": "stderr",
     "output_type": "stream",
     "text": [
      "0it [00:00, ?it/s]"
     ]
    },
    {
     "name": "stderr",
     "output_type": "stream",
     "text": [
      "230it [00:35,  6.43it/s]"
     ]
    },
    {
     "name": "stdout",
     "output_type": "stream",
     "text": [
      "Solved in 230 steps (5 tiles)\n"
     ]
    },
    {
     "name": "stderr",
     "output_type": "stream",
     "text": [
      "\n"
     ]
    }
   ],
   "source": [
    "frontier = PriorityQueue()\n",
    "#frontier = SimpleQueue()\n",
    "#frontier = LifoQueue()\n",
    "state = State(set(), set(range(NUM_SETS)))\n",
    "frontier.put((f2(state), state))\n",
    "\n",
    "counter = 0\n",
    "_, current_state = frontier.get()\n",
    "with tqdm(total=None) as pbar:\n",
    "    while not goal_check(current_state):\n",
    "        counter += 1\n",
    "        for action in current_state[1]:\n",
    "            new_state = State(\n",
    "                current_state.taken ^ {action},\n",
    "                current_state.not_taken ^ {action},\n",
    "            )\n",
    "            frontier.put((f2(new_state), new_state))\n",
    "        _, current_state = frontier.get()\n",
    "        pbar.update(1)\n",
    "    pbar.close\n",
    "print(\n",
    "    f\"Solved in {counter:,} steps ({len(current_state.taken)} tiles)\"\n",
    ")"
   ]
  },
  {
   "cell_type": "code",
   "execution_count": 156,
   "metadata": {},
   "outputs": [
    {
     "data": {
      "text/plain": [
       "State(taken={64, 1, 9, 14, 17}, not_taken={0, 2, 3, 4, 5, 6, 7, 8, 10, 11, 12, 13, 15, 16, 18, 19, 20, 21, 22, 23, 24, 25, 26, 27, 28, 29, 30, 31, 32, 33, 34, 35, 36, 37, 38, 39, 40, 41, 42, 43, 44, 45, 46, 47, 48, 49, 50, 51, 52, 53, 54, 55, 56, 57, 58, 59, 60, 61, 62, 63, 65, 66, 67, 68, 69, 70, 71, 72, 73, 74, 75, 76, 77, 78, 79, 80, 81, 82, 83, 84, 85, 86, 87, 88, 89, 90, 91, 92, 93, 94, 95, 96, 97, 98, 99})"
      ]
     },
     "execution_count": 156,
     "metadata": {},
     "output_type": "execute_result"
    }
   ],
   "source": [
    "current_state"
   ]
  },
  {
   "cell_type": "code",
   "execution_count": 161,
   "metadata": {},
   "outputs": [
    {
     "name": "stderr",
     "output_type": "stream",
     "text": [
      "388it [00:03, 116.05it/s]"
     ]
    },
    {
     "name": "stdout",
     "output_type": "stream",
     "text": [
      "Solved in 388 steps (5 tiles)\n"
     ]
    },
    {
     "name": "stderr",
     "output_type": "stream",
     "text": [
      "\n"
     ]
    }
   ],
   "source": [
    "frontier = PriorityQueue()\n",
    "#frontier = SimpleQueue()\n",
    "#frontier = LifoQueue()\n",
    "state = State(set(), set(range(NUM_SETS)))\n",
    "frontier.put((distance_stochastic(state), state))\n",
    "\n",
    "counter = 0\n",
    "_, current_state = frontier.get()\n",
    "with tqdm(total=None) as pbar:\n",
    "    while not goal_check(current_state):\n",
    "        counter += 1\n",
    "        for action in current_state[1]:\n",
    "            new_state = State(\n",
    "                current_state.taken ^ {action},\n",
    "                current_state.not_taken ^ {action},\n",
    "            )\n",
    "            frontier.put((distance_stochastic(new_state), new_state))\n",
    "        _, current_state = frontier.get()\n",
    "        pbar.update(1)\n",
    "    pbar.close\n",
    "print(\n",
    "    f\"Solved in {counter:,} steps ({len(current_state.taken)} tiles)\"\n",
    ")"
   ]
  },
  {
   "cell_type": "code",
   "execution_count": 162,
   "metadata": {},
   "outputs": [
    {
     "data": {
      "text/plain": [
       "State(taken={64, 1, 9, 14, 17}, not_taken={0, 2, 3, 4, 5, 6, 7, 8, 10, 11, 12, 13, 15, 16, 18, 19, 20, 21, 22, 23, 24, 25, 26, 27, 28, 29, 30, 31, 32, 33, 34, 35, 36, 37, 38, 39, 40, 41, 42, 43, 44, 45, 46, 47, 48, 49, 50, 51, 52, 53, 54, 55, 56, 57, 58, 59, 60, 61, 62, 63, 65, 66, 67, 68, 69, 70, 71, 72, 73, 74, 75, 76, 77, 78, 79, 80, 81, 82, 83, 84, 85, 86, 87, 88, 89, 90, 91, 92, 93, 94, 95, 96, 97, 98, 99})"
      ]
     },
     "execution_count": 162,
     "metadata": {},
     "output_type": "execute_result"
    }
   ],
   "source": [
    "current_state"
   ]
  },
  {
   "cell_type": "code",
   "execution_count": 159,
   "metadata": {},
   "outputs": [
    {
     "data": {
      "text/plain": [
       "[0, 1, 4]"
      ]
     },
     "execution_count": 159,
     "metadata": {},
     "output_type": "execute_result"
    }
   ],
   "source": [
    "x=[False, False, True, True, False]\n",
    "ind = list()\n",
    "for i in range(5):\n",
    "        if x[i] == False:\n",
    "            ind.append(i)\n",
    "            \n",
    "ind    \n",
    "\n",
    "      "
   ]
  },
  {
   "cell_type": "code",
   "execution_count": 160,
   "metadata": {},
   "outputs": [
    {
     "data": {
      "text/plain": [
       "[3, 2, 0]"
      ]
     },
     "execution_count": 160,
     "metadata": {},
     "output_type": "execute_result"
    }
   ],
   "source": [
    "y=[[True, True, False, False, False],[True, True, False, False, True],[False, False, True, False, False]]\n",
    "sorted((sum([y[h][k] for k in ind]) for h in range(3)),reverse=True)\n"
   ]
  },
  {
   "cell_type": "code",
   "execution_count": null,
   "metadata": {},
   "outputs": [],
   "source": []
  },
  {
   "cell_type": "markdown",
   "metadata": {},
   "source": [
    "# \n",
    "##\n",
    "###"
   ]
  }
 ],
 "metadata": {
  "kernelspec": {
   "display_name": ".venv",
   "language": "python",
   "name": "python3"
  },
  "language_info": {
   "codemirror_mode": {
    "name": "ipython",
    "version": 3
   },
   "file_extension": ".py",
   "mimetype": "text/x-python",
   "name": "python",
   "nbconvert_exporter": "python",
   "pygments_lexer": "ipython3",
   "version": "3.12.0"
  }
 },
 "nbformat": 4,
 "nbformat_minor": 2
}
