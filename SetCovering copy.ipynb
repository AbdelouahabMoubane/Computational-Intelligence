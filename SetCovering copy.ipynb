{
 "cells": [
  {
   "cell_type": "markdown",
   "metadata": {},
   "source": [
    "Copyright **(c)** 2023 Abdelouahab Moubane <abdelmub@gmail.com>\n",
    "https://github.com/AbdelouahabMoubane"
   ]
  },
  {
   "cell_type": "code",
   "execution_count": 81,
   "metadata": {},
   "outputs": [],
   "source": [
    "from random import random, seed\n",
    "from math import ceil\n",
    "from functools import reduce\n",
    "from collections import namedtuple, deque\n",
    "from queue import PriorityQueue\n",
    "from tqdm.auto import tqdm\n",
    "import numpy as np"
   ]
  },
  {
   "cell_type": "markdown",
   "metadata": {},
   "source": [
    "# Problem parameters"
   ]
  },
  {
   "cell_type": "code",
   "execution_count": 82,
   "metadata": {},
   "outputs": [
    {
     "data": {
      "text/plain": [
       "50"
      ]
     },
     "execution_count": 82,
     "metadata": {},
     "output_type": "execute_result"
    }
   ],
   "source": [
    "seed(8)\n",
    "PROBLEM_SIZE = 100\n",
    "NUM_SETS = 50\n",
    "SETS = tuple(np.array([random() < .3 for _ in range(PROBLEM_SIZE)]) for _ in range(NUM_SETS))\n",
    "\n",
    "SETS = set(tuple(tuple(set) for set in SETS))\n",
    "SETS = list(np.array(set) for set in SETS)\n",
    "\n",
    "SETS.sort(key=lambda x: -sum(x))\n",
    "SETS = tuple(SETS)\n",
    "\n",
    "NUM_SETS = len(SETS)\n",
    "\n",
    "State = namedtuple('State', ['taken', 'not_taken'])\n",
    "\n",
    "len(SETS)"
   ]
  },
  {
   "cell_type": "code",
   "execution_count": 83,
   "metadata": {},
   "outputs": [],
   "source": [
    "def covered(state):\n",
    "    return reduce(\n",
    "        np.logical_or,\n",
    "        [SETS[i] for i in state.taken],\n",
    "        np.array([False for _ in range(PROBLEM_SIZE)]),\n",
    "    )"
   ]
  },
  {
   "cell_type": "markdown",
   "metadata": {},
   "source": [
    "# Breadth Search"
   ]
  },
  {
   "cell_type": "code",
   "execution_count": 84,
   "metadata": {},
   "outputs": [],
   "source": [
    "def goal_check(state):\n",
    "    return np.all(reduce(np.logical_or, [SETS[i] for i in state.taken], np.array([False for _ in range(PROBLEM_SIZE)])))\n",
    "\n",
    "\n",
    "def distance(state):\n",
    "    Num_EmptySpaces = PROBLEM_SIZE - np.sum(\n",
    "        reduce(\n",
    "            np.logical_or,\n",
    "            [SETS[i] for i in state.taken],\n",
    "            np.array([False for _ in range(PROBLEM_SIZE)]),\n",
    "        ))\n",
    "    Num_SetsTaken = len(state.taken)\n",
    "    return Num_EmptySpaces\n",
    "\n",
    "def distance_Convex(state):\n",
    "    Num_EmptySpaces = PROBLEM_SIZE - np.sum(\n",
    "        reduce(\n",
    "            np.logical_or,\n",
    "            [SETS[i] for i in state.taken],\n",
    "            np.array([False for _ in range(PROBLEM_SIZE)]),\n",
    "        ))\n",
    "    Num_SetsTaken = len(state.taken)\n",
    "    return 0.1*Num_EmptySpaces+0.9*Num_SetsTaken\n",
    "\n",
    "def distance_stochastic(state):\n",
    "    Num_EmptySpaces = PROBLEM_SIZE - np.sum(\n",
    "        reduce(\n",
    "            np.logical_or,\n",
    "            [SETS[i] for i in state.taken],\n",
    "            np.array([False for _ in range(PROBLEM_SIZE)]),\n",
    "        ))\n",
    "    Num_SetsTaken = len(state.taken)\n",
    "    return (Num_SetsTaken/(PROBLEM_SIZE-Num_EmptySpaces+1))+100*(1-(0.5)**(Num_EmptySpaces))\n",
    "\n",
    "def distance_stochastic_1(state):\n",
    "    Num_EmptySpaces = PROBLEM_SIZE - np.sum(\n",
    "        reduce(\n",
    "            np.logical_or,\n",
    "            [SETS[i] for i in state.taken],\n",
    "            np.array([False for _ in range(PROBLEM_SIZE)]),\n",
    "        ))\n",
    "    Num_SetsTaken = len(state.taken)\n",
    "    p = (2**(PROBLEM_SIZE-Num_EmptySpaces))/(2**PROBLEM_SIZE-Num_SetsTaken)\n",
    "    return (Num_SetsTaken/(PROBLEM_SIZE-Num_EmptySpaces+1))+(1-p)\n",
    "\n",
    "\n",
    "def distance_stochastic_2(state):\n",
    "    Num_EmptySpaces = PROBLEM_SIZE - np.sum(\n",
    "        reduce(\n",
    "            np.logical_or,\n",
    "            [SETS[i] for i in state.taken],\n",
    "            np.array([False for _ in range(PROBLEM_SIZE)]),\n",
    "        ))\n",
    "    Num_SetsTaken = len(state.taken)\n",
    "    p = (2**(PROBLEM_SIZE-Num_EmptySpaces))/(2**PROBLEM_SIZE-Num_SetsTaken)\n",
    "    return (1-p)\n",
    "\n"
   ]
  },
  {
   "cell_type": "markdown",
   "metadata": {},
   "source": [
    "# A* search"
   ]
  },
  {
   "cell_type": "markdown",
   "metadata": {},
   "source": [
    "## Deterministic heuristic"
   ]
  },
  {
   "cell_type": "code",
   "execution_count": 85,
   "metadata": {},
   "outputs": [],
   "source": [
    "def h(state):\n",
    "    already_covered = covered(state)\n",
    "    index = list()\n",
    "    if np.all(already_covered):\n",
    "        return 0\n",
    "    for i in range(PROBLEM_SIZE):\n",
    "        if already_covered[i] == False:\n",
    "            index.append(i)\n",
    "    missing_size = PROBLEM_SIZE - sum(already_covered)\n",
    "    candidates = sorted((sum([SETS[h][k] for k in index]) for h in state.not_taken),reverse=True)\n",
    "    taken = 1\n",
    "    while sum(candidates[:taken]) < missing_size:\n",
    "        taken += 1\n",
    "    return taken\n",
    "\n",
    "def f1(state):\n",
    "    Num_EmptySpaces = PROBLEM_SIZE - np.sum(\n",
    "        reduce(\n",
    "            np.logical_or,\n",
    "            [SETS[i] for i in state.taken],\n",
    "            np.array([False for _ in range(PROBLEM_SIZE)]),\n",
    "        ))\n",
    "    Num_SetsTaken = len(state.taken)\n",
    "    return PROBLEM_SIZE*(Num_SetsTaken/(PROBLEM_SIZE-Num_EmptySpaces+1)) + h(state)\n",
    "\n",
    "\n",
    "def f2(state):\n",
    "    Num_EmptySpaces = PROBLEM_SIZE - np.sum(\n",
    "        reduce(\n",
    "            np.logical_or,\n",
    "            [SETS[i] for i in state.taken],\n",
    "            np.array([False for _ in range(PROBLEM_SIZE)]),\n",
    "        ))\n",
    "    Num_SetsTaken = len(state.taken)\n",
    "    return (Num_SetsTaken/(PROBLEM_SIZE-Num_EmptySpaces+1))+h(state)/(PROBLEM_SIZE-Num_SetsTaken+1)\n",
    "\n",
    "\n"
   ]
  },
  {
   "cell_type": "markdown",
   "metadata": {},
   "source": [
    "## Stochastic heuristic"
   ]
  },
  {
   "cell_type": "code",
   "execution_count": 86,
   "metadata": {},
   "outputs": [],
   "source": [
    "\n",
    "def f3(state):\n",
    "    Num_EmptySpaces = PROBLEM_SIZE - np.sum(\n",
    "        reduce(\n",
    "            np.logical_or,\n",
    "            [SETS[i] for i in state.taken],\n",
    "            np.array([False for _ in range(PROBLEM_SIZE)]),\n",
    "        ))\n",
    "    Num_SetsTaken = len(state.taken)\n",
    "    return (Num_SetsTaken/(PROBLEM_SIZE-Num_EmptySpaces+1))+100*(1-(0.95)**(Num_EmptySpaces))\n"
   ]
  },
  {
   "cell_type": "markdown",
   "metadata": {},
   "source": [
    "## Tests"
   ]
  },
  {
   "cell_type": "code",
   "execution_count": 87,
   "metadata": {},
   "outputs": [],
   "source": [
    "assert goal_check(\n",
    "    State(set(range(NUM_SETS)), set())\n",
    "), \"Probelm not solvable\""
   ]
  },
  {
   "cell_type": "code",
   "execution_count": 88,
   "metadata": {},
   "outputs": [
    {
     "name": "stderr",
     "output_type": "stream",
     "text": [
      "7it [00:00, 15.10it/s]"
     ]
    },
    {
     "name": "stderr",
     "output_type": "stream",
     "text": [
      "3313it [02:34, 21.42it/s]"
     ]
    },
    {
     "name": "stdout",
     "output_type": "stream",
     "text": [
      "Solved in 3,313 steps (6 tiles)\n"
     ]
    },
    {
     "name": "stderr",
     "output_type": "stream",
     "text": [
      "\n"
     ]
    }
   ],
   "source": [
    "frontier = PriorityQueue()\n",
    "#frontier = SimpleQueue()\n",
    "#frontier = LifoQueue()\n",
    "state = State(set(), set(range(NUM_SETS)))\n",
    "frontier.put((f1(state), state))\n",
    "\n",
    "counter = 0\n",
    "_, current_state = frontier.get()\n",
    "with tqdm(total=None) as pbar:\n",
    "    while not goal_check(current_state):\n",
    "        counter += 1\n",
    "        for action in current_state[1]:\n",
    "            new_state = State(\n",
    "                current_state.taken ^ {action},\n",
    "                current_state.not_taken ^ {action},\n",
    "            )\n",
    "            frontier.put((f1(new_state), new_state))\n",
    "        _, current_state = frontier.get()\n",
    "        pbar.update(1)\n",
    "    pbar.close\n",
    "print(\n",
    "    f\"Solved in {counter:,} steps ({len(current_state.taken)} tiles)\"\n",
    ")"
   ]
  },
  {
   "cell_type": "code",
   "execution_count": 89,
   "metadata": {},
   "outputs": [
    {
     "data": {
      "text/plain": [
       "State(taken={1, 38, 6, 13, 15, 19}, not_taken={0, 2, 3, 4, 5, 7, 8, 9, 10, 11, 12, 14, 16, 17, 18, 20, 21, 22, 23, 24, 25, 26, 27, 28, 29, 30, 31, 32, 33, 34, 35, 36, 37, 39, 40, 41, 42, 43, 44, 45, 46, 47, 48, 49})"
      ]
     },
     "execution_count": 89,
     "metadata": {},
     "output_type": "execute_result"
    }
   ],
   "source": [
    "current_state"
   ]
  },
  {
   "cell_type": "code",
   "execution_count": 90,
   "metadata": {},
   "outputs": [
    {
     "data": {
      "text/plain": [
       "200"
      ]
     },
     "execution_count": 90,
     "metadata": {},
     "output_type": "execute_result"
    }
   ],
   "source": [
    "sum(sum(SETS[i] for i in current_state.taken))"
   ]
  },
  {
   "cell_type": "code",
   "execution_count": 91,
   "metadata": {},
   "outputs": [
    {
     "name": "stderr",
     "output_type": "stream",
     "text": [
      "6it [00:00, 272.48it/s]"
     ]
    },
    {
     "name": "stdout",
     "output_type": "stream",
     "text": [
      "Solved in 6 steps (6 tiles)\n"
     ]
    },
    {
     "name": "stderr",
     "output_type": "stream",
     "text": [
      "\n"
     ]
    }
   ],
   "source": [
    "frontier = PriorityQueue()\n",
    "#frontier = SimpleQueue()\n",
    "#frontier = LifoQueue()\n",
    "state = State(set(), set(range(NUM_SETS)))\n",
    "frontier.put((f3(state), state))\n",
    "\n",
    "counter = 0\n",
    "_, current_state = frontier.get()\n",
    "with tqdm(total=None) as pbar:\n",
    "    while not goal_check(current_state):\n",
    "        counter += 1\n",
    "        for action in current_state[1]:\n",
    "            new_state = State(\n",
    "                current_state.taken ^ {action},\n",
    "                current_state.not_taken ^ {action},\n",
    "            )\n",
    "            frontier.put((f3(new_state), new_state))\n",
    "        _, current_state = frontier.get()\n",
    "        pbar.update(1)\n",
    "    pbar.close\n",
    "print(\n",
    "    f\"Solved in {counter:,} steps ({len(current_state.taken)} tiles)\"\n",
    ")"
   ]
  },
  {
   "cell_type": "code",
   "execution_count": 92,
   "metadata": {},
   "outputs": [
    {
     "data": {
      "text/plain": [
       "State(taken={0, 4, 7, 11, 15, 22}, not_taken={1, 2, 3, 5, 6, 8, 9, 10, 12, 13, 14, 16, 17, 18, 19, 20, 21, 23, 24, 25, 26, 27, 28, 29, 30, 31, 32, 33, 34, 35, 36, 37, 38, 39, 40, 41, 42, 43, 44, 45, 46, 47, 48, 49})"
      ]
     },
     "execution_count": 92,
     "metadata": {},
     "output_type": "execute_result"
    }
   ],
   "source": [
    "current_state"
   ]
  },
  {
   "cell_type": "code",
   "execution_count": 93,
   "metadata": {},
   "outputs": [
    {
     "data": {
      "text/plain": [
       "211"
      ]
     },
     "execution_count": 93,
     "metadata": {},
     "output_type": "execute_result"
    }
   ],
   "source": [
    "sum(sum(SETS[i] for i in current_state.taken))"
   ]
  }
 ],
 "metadata": {
  "kernelspec": {
   "display_name": ".venv",
   "language": "python",
   "name": "python3"
  },
  "language_info": {
   "codemirror_mode": {
    "name": "ipython",
    "version": 3
   },
   "file_extension": ".py",
   "mimetype": "text/x-python",
   "name": "python",
   "nbconvert_exporter": "python",
   "pygments_lexer": "ipython3",
   "version": "3.12.0"
  }
 },
 "nbformat": 4,
 "nbformat_minor": 2
}
